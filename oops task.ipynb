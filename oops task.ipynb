{
 "cells": [
  {
   "cell_type": "markdown",
   "id": "20652250-f1d0-4608-9852-f364fc4f9bb0",
   "metadata": {},
   "source": [
    "Q1,Create a vehicle class with an init method having instance varaibles as name_of_vehicle,max_speed and avrage_of_vehicle  "
   ]
  },
  {
   "cell_type": "code",
   "execution_count": 52,
   "id": "5ee920a5-45c0-47ec-aac2-42759cef1c53",
   "metadata": {},
   "outputs": [],
   "source": [
    "#ANS\n",
    "class vehicle : \n",
    "    def __init__(self,vehicle_name,max_speed,average_of_vehicle):\n",
    "        self.vehicle_name=vehicle_name\n",
    "        self.max_speed=max_speed\n",
    "        self.average_of_vehicle=average_of_vehicle\n",
    "    def return_vehicle_details(self):\n",
    "        return self.vehicle_name,self.max_speed,self.average_of_vehicle\n",
    "    "
   ]
  },
  {
   "cell_type": "code",
   "execution_count": 98,
   "id": "b322297f-fd4b-4e79-9c85-257d2e97cfe3",
   "metadata": {},
   "outputs": [],
   "source": [
    "Vehicle=vehicle(\"ferrari\",217,8.77)\n"
   ]
  },
  {
   "cell_type": "code",
   "execution_count": 99,
   "id": "0013a8ff-9bd3-4694-a157-908aff72d83f",
   "metadata": {},
   "outputs": [
    {
     "data": {
      "text/plain": [
       "('ferrari', 217, 8.77)"
      ]
     },
     "execution_count": 99,
     "metadata": {},
     "output_type": "execute_result"
    }
   ],
   "source": [
    "Vehicle.return_vehicle_details()"
   ]
  },
  {
   "cell_type": "markdown",
   "id": "106d1bbd-e039-42e0-b53d-205591f5020c",
   "metadata": {},
   "source": [
    "Q2,create a child class car from the vehicle class created in que 1, which  will inherit the vehicle class\n",
    "   create a method named seating_capacity which takes capacity as an argument and return the name of the vehicle and its \n",
    "   seating capacity."
   ]
  },
  {
   "cell_type": "code",
   "execution_count": 109,
   "id": "a7f179b3-68c9-41af-9cc0-fca702dd342c",
   "metadata": {},
   "outputs": [
    {
     "name": "stdout",
     "output_type": "stream",
     "text": [
      "(ferrari) has a seating capacity of (2).\n"
     ]
    }
   ],
   "source": [
    "#ANS\n",
    "class Car(vehicle):\n",
    "    def seating_capacity(self,capacity):\n",
    "        return f\"(ferrari) has a seating capacity of (2).\"\n",
    "Vehicle=Car(\"ferrari\",217,8.77)\n",
    "result = Vehicle.seating_capacity(2)\n",
    "print(result)"
   ]
  },
  {
   "cell_type": "markdown",
   "id": "b7e7dfaa-39c2-47ed-b13d-2abe21009b1f",
   "metadata": {},
   "source": [
    "Q3, What is multiple inheritence? Wreite a python code to demonstrate multiple inheritence"
   ]
  },
  {
   "cell_type": "markdown",
   "id": "d98d984c-76a3-46d8-b14b-9e0b3761c233",
   "metadata": {},
   "source": [
    "#ANS--\n",
    "When one class has more than one base class its called multiple inheritence the class which have base classes\n",
    "it inherits all the features of the base classes"
   ]
  },
  {
   "cell_type": "code",
   "execution_count": 118,
   "id": "193e26a3-7e34-4260-9018-328a68811b0d",
   "metadata": {},
   "outputs": [],
   "source": [
    "class a:\n",
    "    def test_a():\n",
    "        return 23+34\n",
    "    \n",
    "    \n"
   ]
  },
  {
   "cell_type": "code",
   "execution_count": 124,
   "id": "7f141447-f8aa-476c-a726-40dc6fddecc5",
   "metadata": {},
   "outputs": [],
   "source": [
    "class b:\n",
    "    def test_b():\n",
    "        return \"this is my second class\""
   ]
  },
  {
   "cell_type": "code",
   "execution_count": 125,
   "id": "687c0ea9-b3d2-47ed-b104-03efbe6d6527",
   "metadata": {},
   "outputs": [],
   "source": [
    "class c(a,b):\n",
    "    pass"
   ]
  },
  {
   "cell_type": "code",
   "execution_count": 126,
   "id": "4a918f85-a6f5-4ce1-80b7-bfb8fa3562ad",
   "metadata": {},
   "outputs": [],
   "source": [
    "obj_c=c"
   ]
  },
  {
   "cell_type": "code",
   "execution_count": 127,
   "id": "1fee662d-5336-42ef-a5b0-a4bf3f7fb294",
   "metadata": {},
   "outputs": [
    {
     "data": {
      "text/plain": [
       "57"
      ]
     },
     "execution_count": 127,
     "metadata": {},
     "output_type": "execute_result"
    }
   ],
   "source": [
    "obj_c.test_a()"
   ]
  },
  {
   "cell_type": "code",
   "execution_count": 128,
   "id": "0996beb7-4197-4020-8dfc-ddf067c6547c",
   "metadata": {},
   "outputs": [
    {
     "data": {
      "text/plain": [
       "'this is my second class'"
      ]
     },
     "execution_count": 128,
     "metadata": {},
     "output_type": "execute_result"
    }
   ],
   "source": [
    "obj_c.test_b()"
   ]
  },
  {
   "cell_type": "markdown",
   "id": "80a7ac55-8282-46e9-ba24-a3b00ef89e3c",
   "metadata": {},
   "source": [
    "Q4,What are setter and getter in python ? create a class and create a setter and getter method in this class"
   ]
  },
  {
   "cell_type": "markdown",
   "id": "8fd65d7b-f625-4a3e-9cb3-0db7fe637d71",
   "metadata": {},
   "source": [
    "ANS--\n",
    "Getter is a method which allows you to access an attribute in a given class.\n",
    "Setter is a method which allows you to set or mutate the value of an attribute in a class"
   ]
  },
  {
   "cell_type": "code",
   "execution_count": 131,
   "id": "6bf431a3-ad7a-4526-8fe3-c5b9689398fc",
   "metadata": {},
   "outputs": [],
   "source": [
    "class student_details:\n",
    "    def __init__(self,name,email_id,age):\n",
    "        self.name=name\n",
    "        self.email_id=email_id\n",
    "        self._age=age\n",
    "    def return_student_detail(self):\n",
    "        return self.name,self.email_id,self._age\n",
    "    def get_age(self):\n",
    "        return self._age\n",
    "    def set_age(self,new_age):\n",
    "        if new_age >=19:\n",
    "            self._age=new_age\n",
    "            return True\n",
    "        else:\n",
    "            return False"
   ]
  },
  {
   "cell_type": "code",
   "execution_count": 134,
   "id": "c45cbca6-a7f8-4c85-becd-80bb0cf02811",
   "metadata": {},
   "outputs": [],
   "source": [
    "S=student_details(\"ajay\",\"ajay@123gmail.com\",19)"
   ]
  },
  {
   "cell_type": "code",
   "execution_count": 136,
   "id": "67070c8c-af24-41af-be17-c6af46e7e2ac",
   "metadata": {},
   "outputs": [
    {
     "data": {
      "text/plain": [
       "('ajay', 'ajay@123gmail.com', 19)"
      ]
     },
     "execution_count": 136,
     "metadata": {},
     "output_type": "execute_result"
    }
   ],
   "source": [
    "S.return_student_detail()"
   ]
  },
  {
   "cell_type": "code",
   "execution_count": 138,
   "id": "cf306bb7-2e92-473c-97f9-a128b5924f5f",
   "metadata": {},
   "outputs": [
    {
     "data": {
      "text/plain": [
       "19"
      ]
     },
     "execution_count": 138,
     "metadata": {},
     "output_type": "execute_result"
    }
   ],
   "source": [
    "S.get_age()"
   ]
  },
  {
   "cell_type": "code",
   "execution_count": 140,
   "id": "60c1f9e2-2f41-474e-b954-b10885756d7d",
   "metadata": {},
   "outputs": [
    {
     "data": {
      "text/plain": [
       "False"
      ]
     },
     "execution_count": 140,
     "metadata": {},
     "output_type": "execute_result"
    }
   ],
   "source": [
    "S.set_age(16)"
   ]
  },
  {
   "cell_type": "code",
   "execution_count": 141,
   "id": "3bf44d95-4936-47c9-8867-d0ae57485fe5",
   "metadata": {},
   "outputs": [
    {
     "data": {
      "text/plain": [
       "True"
      ]
     },
     "execution_count": 141,
     "metadata": {},
     "output_type": "execute_result"
    }
   ],
   "source": [
    "S.set_age(19)"
   ]
  },
  {
   "cell_type": "markdown",
   "id": "bc664fb8-7cbb-468a-889c-644481b433dd",
   "metadata": {},
   "source": [
    "Q5.WHAT IS METHOD OVERRIDDING IN PYTHON? WRITE A PYTHON CODE TO DEMONSTRATE METHOD OVERRIDING"
   ]
  },
  {
   "cell_type": "markdown",
   "id": "5d28322d-bbb2-4e71-8fb3-a024a5b93243",
   "metadata": {},
   "source": [
    "ANS--\n",
    "Overridding is a method where the subclass or child class can provide the program with specific characteristics \n",
    "that are already provided in parent class"
   ]
  },
  {
   "cell_type": "code",
   "execution_count": 188,
   "id": "2c81bd65-12a7-4c74-8773-0704dc36880d",
   "metadata": {},
   "outputs": [],
   "source": [
    "class Animal:\n",
    "    def sound(self):\n",
    "        print(\"Animal makes a sound.\")\n",
    "\n",
    "class Dog(Animal):\n",
    "    def sound(self):\n",
    "        print(\"Dog barks.\")\n",
    "\n",
    "class Cat(Animal):\n",
    "    def sound(self):\n",
    "        print(\"Cat meows.\")\n"
   ]
  },
  {
   "cell_type": "code",
   "execution_count": 189,
   "id": "ad969928-0f86-4e37-8d6f-ad230fc0d7d3",
   "metadata": {},
   "outputs": [],
   "source": [
    "animal=Animal()\n",
    "dog=Dog()\n",
    "cat=Cat()\n"
   ]
  },
  {
   "cell_type": "code",
   "execution_count": 191,
   "id": "d967bb3b-e8b2-4a64-8501-2bb9ab61ec43",
   "metadata": {},
   "outputs": [
    {
     "name": "stdout",
     "output_type": "stream",
     "text": [
      "Animal makes a sound.\n",
      "Cat meows.\n",
      "Dog barks.\n"
     ]
    }
   ],
   "source": [
    "animal.sound()\n",
    "cat.sound()\n",
    "dog.sound()"
   ]
  },
  {
   "cell_type": "code",
   "execution_count": null,
   "id": "e8eb30dc-45f2-4187-9569-0cf53dc7375e",
   "metadata": {},
   "outputs": [],
   "source": []
  }
 ],
 "metadata": {
  "kernelspec": {
   "display_name": "Python 3 (ipykernel)",
   "language": "python",
   "name": "python3"
  },
  "language_info": {
   "codemirror_mode": {
    "name": "ipython",
    "version": 3
   },
   "file_extension": ".py",
   "mimetype": "text/x-python",
   "name": "python",
   "nbconvert_exporter": "python",
   "pygments_lexer": "ipython3",
   "version": "3.10.8"
  }
 },
 "nbformat": 4,
 "nbformat_minor": 5
}
